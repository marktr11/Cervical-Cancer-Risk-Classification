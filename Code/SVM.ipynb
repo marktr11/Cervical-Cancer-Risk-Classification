{
 "cells": [
  {
   "cell_type": "markdown",
   "id": "f48f30b1-7178-44b2-b5a9-d6e94f41b62b",
   "metadata": {},
   "source": [
    "# Modèle Naive Bayes pour détecter les risques de cancer cervical\n",
    "par Binh Minh TRAN"
   ]
  },
  {
   "cell_type": "code",
   "execution_count": null,
   "id": "f88e99cd-c0b6-42a5-9f94-fb50244c6a0c",
   "metadata": {},
   "outputs": [],
   "source": []
  }
 ],
 "metadata": {
  "kernelspec": {
   "display_name": "Python 3 (ipykernel)",
   "language": "python",
   "name": "python3"
  },
  "language_info": {
   "codemirror_mode": {
    "name": "ipython",
    "version": 3
   },
   "file_extension": ".py",
   "mimetype": "text/x-python",
   "name": "python",
   "nbconvert_exporter": "python",
   "pygments_lexer": "ipython3",
   "version": "3.11.4"
  }
 },
 "nbformat": 4,
 "nbformat_minor": 5
}
