{
 "cells": [
  {
   "cell_type": "markdown",
   "id": "97fd3d95-89b7-4826-bda3-e0d0f27d8a40",
   "metadata": {},
   "source": [
    "# Modèle Naive Bayes"
   ]
  },
  {
   "cell_type": "markdown",
   "id": "aa940227-fa64-4b08-9a30-66b1c350170c",
   "metadata": {},
   "source": [
    "## 1. Télechargement des packages nécessaires"
   ]
  },
  {
   "cell_type": "code",
   "execution_count": 1,
   "id": "293bc23f-eaac-49e5-9e5d-8de195f679d0",
   "metadata": {},
   "outputs": [],
   "source": [
    "import numpy as np\n",
    "import pandas as pd\n",
    "import pickle\n",
    "from sklearn.naive_bayes import GaussianNB\n",
    "from sklearn.metrics import accuracy_score\n",
    "from sklearn.preprocessing import LabelEncoder"
   ]
  },
  {
   "cell_type": "markdown",
   "id": "225840c7-f796-4fcd-9316-54bd75ffec84",
   "metadata": {},
   "source": [
    "## 2. Importation des ensembles d'entraînement et de test (validation croisée)"
   ]
  },
  {
   "cell_type": "code",
   "execution_count": 2,
   "id": "d60f4f70-fd08-4eef-be95-d5dae188ad43",
   "metadata": {},
   "outputs": [],
   "source": [
    "with open('variables.pkl', 'rb') as f:\n",
    "    (fold_indices, df, \n",
    "     X_train_1, Y_train_1, X_train_2, Y_train_2, \n",
    "     X_train_3, Y_train_3, X_train_4, Y_train_4, \n",
    "     X_test_1, Y_test_1, X_test_2, Y_test_2, \n",
    "     X_test_3, Y_test_3, X_test_4, Y_test_4) = pickle.load(f)"
   ]
  },
  {
   "cell_type": "code",
   "execution_count": 3,
   "id": "653d6e3b-c693-4e02-8f3d-41acb660c3e8",
   "metadata": {},
   "outputs": [
    {
     "name": "stdout",
     "output_type": "stream",
     "text": [
      "Index(['comportement_risqueSexuel', 'comportement_alimentation',\n",
      "       'comportement_hygienePersonnelle', 'intention_aggrégation',\n",
      "       'intention_engagement', 'attitude_cohérence', 'attitude_spontanéité',\n",
      "       'norme_personneImportante', 'norme_accomplissement',\n",
      "       'perception_vulnérabilité', 'perception_sévérité', 'motivation_force',\n",
      "       'motivation_volonté', 'soutienSocial_émotionnel',\n",
      "       'soutienSocial_appréciation', 'soutienSocial_instrumental',\n",
      "       'autonomisation_connaissance', 'autonomisation_compétences',\n",
      "       'autonomisation_désirs', 'cancer_colUterus'],\n",
      "      dtype='object')\n"
     ]
    }
   ],
   "source": [
    "print(df.columns)"
   ]
  },
  {
   "cell_type": "code",
   "execution_count": 4,
   "id": "a55fea29-7496-457f-8daf-e293da078238",
   "metadata": {},
   "outputs": [
    {
     "name": "stdout",
     "output_type": "stream",
     "text": [
      "(72, 20)\n"
     ]
    }
   ],
   "source": [
    "print(df.shape)"
   ]
  }
 ],
 "metadata": {
  "kernelspec": {
   "display_name": "Python 3 (ipykernel)",
   "language": "python",
   "name": "python3"
  },
  "language_info": {
   "codemirror_mode": {
    "name": "ipython",
    "version": 3
   },
   "file_extension": ".py",
   "mimetype": "text/x-python",
   "name": "python",
   "nbconvert_exporter": "python",
   "pygments_lexer": "ipython3",
   "version": "3.11.4"
  }
 },
 "nbformat": 4,
 "nbformat_minor": 5
}
