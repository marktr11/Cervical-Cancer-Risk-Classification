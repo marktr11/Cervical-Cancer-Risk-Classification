{
 "cells": [
  {
   "cell_type": "markdown",
   "id": "97fd3d95-89b7-4826-bda3-e0d0f27d8a40",
   "metadata": {},
   "source": [
    "# Modèle Naive Bayes"
   ]
  },
  {
   "cell_type": "markdown",
   "id": "aa940227-fa64-4b08-9a30-66b1c350170c",
   "metadata": {},
   "source": [
    "## Télechargement des packages nécessaires"
   ]
  },
  {
   "cell_type": "code",
   "execution_count": 17,
   "id": "293bc23f-eaac-49e5-9e5d-8de195f679d0",
   "metadata": {},
   "outputs": [],
   "source": [
    "import numpy as np\n",
    "import pandas as pd\n",
    "import pickle\n",
    "from sklearn.naive_bayes import GaussianNB\n",
    "from sklearn.metrics import accuracy_score\n",
    "from sklearn.preprocessing import LabelEncoder"
   ]
  },
  {
   "cell_type": "markdown",
   "id": "225840c7-f796-4fcd-9316-54bd75ffec84",
   "metadata": {},
   "source": [
    "## Télechargement le data set"
   ]
  },
  {
   "cell_type": "code",
   "execution_count": 2,
   "id": "d60f4f70-fd08-4eef-be95-d5dae188ad43",
   "metadata": {},
   "outputs": [],
   "source": [
    "with open('variables.pkl', 'rb') as f:\n",
    "    fold_indices, df = pickle.load(f)"
   ]
  },
  {
   "cell_type": "code",
   "execution_count": 3,
   "id": "653d6e3b-c693-4e02-8f3d-41acb660c3e8",
   "metadata": {},
   "outputs": [
    {
     "name": "stdout",
     "output_type": "stream",
     "text": [
      "Index(['comportement_risqueSexuel', 'comportement_alimentation',\n",
      "       'comportement_hygienePersonnelle', 'intention_aggrégation',\n",
      "       'intention_engagement', 'attitude_cohérence', 'attitude_spontanéité',\n",
      "       'norme_personneImportante', 'norme_accomplissement',\n",
      "       'perception_vulnérabilité', 'perception_sévérité', 'motivation_force',\n",
      "       'motivation_volonté', 'soutienSocial_émotionnel',\n",
      "       'soutienSocial_appréciation', 'soutienSocial_instrumental',\n",
      "       'autonomisation_connaissance', 'autonomisation_compétences',\n",
      "       'autonomisation_désirs', 'cancer_colUterus'],\n",
      "      dtype='object')\n"
     ]
    }
   ],
   "source": [
    "print(df.columns)"
   ]
  },
  {
   "cell_type": "code",
   "execution_count": 14,
   "id": "a55fea29-7496-457f-8daf-e293da078238",
   "metadata": {},
   "outputs": [
    {
     "name": "stdout",
     "output_type": "stream",
     "text": [
      "(72, 20)\n"
     ]
    }
   ],
   "source": [
    "print(df.shape)"
   ]
  },
  {
   "cell_type": "markdown",
   "id": "7ca13ad1-d71e-4053-9684-bbaaaa03c23a",
   "metadata": {},
   "source": [
    "## Importer les folds (training set , test set)"
   ]
  },
  {
   "cell_type": "code",
   "execution_count": 8,
   "id": "6a003b1c-b7c5-437a-9288-1781c8101afc",
   "metadata": {},
   "outputs": [
    {
     "name": "stdout",
     "output_type": "stream",
     "text": [
      "{'train': array([ 1,  2,  3,  6,  7,  8, 11, 13, 14, 15, 16, 17, 19, 20, 21, 23, 24,\n",
      "       25, 26, 27, 29, 30, 32, 33, 35, 36, 37, 38, 39, 40, 41, 42, 43, 44,\n",
      "       46, 48, 51, 52, 53, 55, 57, 58, 59, 60, 61, 63, 64, 65, 66, 67, 68,\n",
      "       69, 70, 71]), 'test': array([ 0,  4,  5,  9, 10, 12, 18, 22, 28, 31, 34, 45, 47, 49, 50, 54, 56,\n",
      "       62])}\n"
     ]
    }
   ],
   "source": [
    "print(fold_indices['fold_1'])"
   ]
  },
  {
   "cell_type": "code",
   "execution_count": 10,
   "id": "905fc40c-f9d8-44de-a9b2-064af22e6556",
   "metadata": {},
   "outputs": [
    {
     "name": "stdout",
     "output_type": "stream",
     "text": [
      "Train indices Fold 1: [ 1  2  3  6  7  8 11 13 14 15 16 17 19 20 21 23 24 25 26 27 29 30 32 33\n",
      " 35 36 37 38 39 40 41 42 43 44 46 48 51 52 53 55 57 58 59 60 61 63 64 65\n",
      " 66 67 68 69 70 71]\n",
      "Test indices Fold 1: [ 0  4  5  9 10 12 18 22 28 31 34 45 47 49 50 54 56 62]\n",
      "\n",
      "\n",
      "Train indices Fold 2: [ 0  1  2  3  4  5  6  8  9 10 11 12 14 15 17 18 20 21 22 23 24 26 27 28\n",
      " 29 31 32 34 36 37 38 41 43 45 47 48 49 50 51 52 53 54 56 57 60 61 62 63\n",
      " 64 65 66 67 68 70]\n",
      "Test indices Fold 2: [ 7 13 16 19 25 30 33 35 39 40 42 44 46 55 58 59 69 71]\n",
      "\n",
      "\n",
      "Train indices Fold 3: [ 0  1  2  4  5  7  9 10 11 12 13 14 16 18 19 20 21 22 23 25 28 29 30 31\n",
      " 32 33 34 35 37 39 40 42 43 44 45 46 47 49 50 51 52 54 55 56 58 59 60 62\n",
      " 63 65 67 68 69 71]\n",
      "Test indices Fold 3: [ 3  6  8 15 17 24 26 27 36 38 41 48 53 57 61 64 66 70]\n",
      "\n",
      "\n",
      "Train indices Fold 4: [ 0  3  4  5  6  7  8  9 10 12 13 15 16 17 18 19 22 24 25 26 27 28 30 31\n",
      " 33 34 35 36 38 39 40 41 42 44 45 46 47 48 49 50 53 54 55 56 57 58 59 61\n",
      " 62 64 66 69 70 71]\n",
      "Test indices Fold 4: [ 1  2 11 14 20 21 23 29 32 37 43 51 52 60 63 65 67 68]\n"
     ]
    }
   ],
   "source": [
    "fold_1 = fold_indices['fold_1']\n",
    "print(\"Train indices Fold 1:\", fold_1['train'])\n",
    "print(\"Test indices Fold 1:\", fold_1['test'])\n",
    "print(\"\\n\")\n",
    "fold_2 = fold_indices['fold_2']\n",
    "print(\"Train indices Fold 2:\", fold_2['train'])\n",
    "print(\"Test indices Fold 2:\", fold_2['test'])\n",
    "print(\"\\n\")\n",
    "fold_3 = fold_indices['fold_3']\n",
    "print(\"Train indices Fold 3:\", fold_3['train'])\n",
    "print(\"Test indices Fold 3:\", fold_3['test'])\n",
    "print(\"\\n\")\n",
    "fold_4 = fold_indices['fold_4']\n",
    "print(\"Train indices Fold 4:\", fold_4['train'])\n",
    "print(\"Test indices Fold 4:\", fold_4['test'])"
   ]
  },
  {
   "cell_type": "markdown",
   "id": "cb7151f4-372a-46d6-aff6-bfbe6738c8ec",
   "metadata": {},
   "source": [
    "## Pre-traitement les données"
   ]
  },
  {
   "cell_type": "markdown",
   "id": "b56576de-61cf-4319-8fb2-2b5f1055ff2f",
   "metadata": {},
   "source": [
    "### le jeu de donnees pour chaque fold"
   ]
  },
  {
   "cell_type": "code",
   "execution_count": 11,
   "id": "4850baad-8a82-476a-9803-33970f9388dc",
   "metadata": {},
   "outputs": [],
   "source": [
    "train_1 = df.iloc[fold_1['train'],:]\n",
    "train_2 = df.iloc[fold_2['train'],:]\n",
    "train_3 = df.iloc[fold_3['train'],:]\n",
    "train_4 = df.iloc[fold_4['train'],:]"
   ]
  },
  {
   "cell_type": "code",
   "execution_count": 20,
   "id": "8b3e2cdc-a802-4fc4-ac2c-b55e2c076dfc",
   "metadata": {},
   "outputs": [],
   "source": [
    "test_1 = df.iloc[fold_1['test'],:]\n",
    "test_2 = df.iloc[fold_2['test'],:]\n",
    "test_3 = df.iloc[fold_3['test'],:]\n",
    "test_4 = df.iloc[fold_4['test'],:]"
   ]
  },
  {
   "cell_type": "markdown",
   "id": "0c88a174-cc83-474e-baaf-8fd5f2f3db4b",
   "metadata": {},
   "source": [
    "### Matrice des attributs et La variable ciblée"
   ]
  },
  {
   "cell_type": "markdown",
   "id": "8d994bc4-b9f9-4858-8b67-9e659c0bbc3a",
   "metadata": {},
   "source": [
    "#### Fold 1"
   ]
  },
  {
   "cell_type": "code",
   "execution_count": 25,
   "id": "49f2d755-b284-4969-b576-81b320c05818",
   "metadata": {},
   "outputs": [
    {
     "name": "stdout",
     "output_type": "stream",
     "text": [
      "Dimensions de X_train_1 : (54, 19)\n",
      "Dimensions de Y_train_1 : (54,)\n",
      "Dimensions de X_test_1 : (18, 19)\n",
      "Dimensions de Y_test_1 : (18,)\n"
     ]
    }
   ],
   "source": [
    "# Créer X_train_1 et Y_train_1\n",
    "X_train_1 = train_1.drop([\"cancer_colUterus\"], axis=1)\n",
    "print(f\"Dimensions de X_train_1 : {X_train_1.shape}\")  # Affiche la taille de X_train_1\n",
    "\n",
    "Y_train_1 = train_1[\"cancer_colUterus\"]\n",
    "print(f\"Dimensions de Y_train_1 : {Y_train_1.shape}\")  # Affiche la taille de Y_train_1\n",
    "\n",
    "# Créer X_test_1 et Y_test_1\n",
    "X_test_1 = test_1.drop([\"cancer_colUterus\"], axis=1)\n",
    "print(f\"Dimensions de X_test_1 : {X_test_1.shape}\")  # Affiche la taille de X_test_1\n",
    "\n",
    "Y_test_1 = test_1[\"cancer_colUterus\"]\n",
    "print(f\"Dimensions de Y_test_1 : {Y_test_1.shape}\")  # Affiche la taille de Y_test_1\n",
    "\n",
    "# Convertir les données en tableaux NumPy\n",
    "X_train_1 = X_train_1.to_numpy()  # Enlever les noms des caractéristiques\n",
    "X_test_1 = X_test_1.to_numpy()"
   ]
  },
  {
   "cell_type": "code",
   "execution_count": 26,
   "id": "e132263c-54b7-4a09-b9bc-acd747336169",
   "metadata": {},
   "outputs": [
    {
     "name": "stdout",
     "output_type": "stream",
     "text": [
      "Dimensions de X_train_2 : (54, 19)\n",
      "Dimensions de Y_train_2 : (54,)\n",
      "Dimensions de X_test_2 : (18, 19)\n",
      "Dimensions de Y_test_2 : (18,)\n"
     ]
    }
   ],
   "source": [
    "# Créer X_train_2 et Y_train_2\n",
    "X_train_2 = train_2.drop([\"cancer_colUterus\"], axis=1)\n",
    "print(f\"Dimensions de X_train_2 : {X_train_2.shape}\")  # Affiche la taille de X_train_2\n",
    "\n",
    "Y_train_2 = train_2[\"cancer_colUterus\"]\n",
    "print(f\"Dimensions de Y_train_2 : {Y_train_2.shape}\")  # Affiche la taille de Y_train_2\n",
    "\n",
    "# Créer X_test_2 et Y_test_2\n",
    "X_test_2 = test_2.drop([\"cancer_colUterus\"], axis=1)\n",
    "print(f\"Dimensions de X_test_2 : {X_test_2.shape}\")  # Affiche la taille de X_test_2\n",
    "\n",
    "Y_test_2 = test_2[\"cancer_colUterus\"]\n",
    "print(f\"Dimensions de Y_test_2 : {Y_test_2.shape}\")  # Affiche la taille de Y_test_2\n",
    "\n",
    "# Convertir les données en tableaux NumPy\n",
    "X_train_2 = X_train_2.to_numpy()  # Enlever les noms des caractéristiques\n",
    "X_test_2 = X_test_2.to_numpy()"
   ]
  },
  {
   "cell_type": "code",
   "execution_count": 27,
   "id": "f3a29695-dcb6-4a6a-a24d-ca2d1a555759",
   "metadata": {},
   "outputs": [
    {
     "name": "stdout",
     "output_type": "stream",
     "text": [
      "Dimensions de X_train_3 : (54, 19)\n",
      "Dimensions de Y_train_3 : (54,)\n",
      "Dimensions de X_test_3 : (18, 19)\n",
      "Dimensions de Y_test_3 : (18,)\n"
     ]
    }
   ],
   "source": [
    "# Créer X_train_3 et Y_train_3\n",
    "X_train_3 = train_3.drop([\"cancer_colUterus\"], axis=1)\n",
    "print(f\"Dimensions de X_train_3 : {X_train_3.shape}\")  # Affiche la taille de X_train_3\n",
    "\n",
    "Y_train_3 = train_3[\"cancer_colUterus\"]\n",
    "print(f\"Dimensions de Y_train_3 : {Y_train_3.shape}\")  # Affiche la taille de Y_train_3\n",
    "\n",
    "# Créer X_test_3 et Y_test_3\n",
    "X_test_3 = test_3.drop([\"cancer_colUterus\"], axis=1)\n",
    "print(f\"Dimensions de X_test_3 : {X_test_3.shape}\")  # Affiche la taille de X_test_3\n",
    "\n",
    "Y_test_3 = test_3[\"cancer_colUterus\"]\n",
    "print(f\"Dimensions de Y_test_3 : {Y_test_3.shape}\")  # Affiche la taille de Y_test_3\n",
    "\n",
    "# Convertir les données en tableaux NumPy\n",
    "X_train_3 = X_train_3.to_numpy()  # Enlever les noms des caractéristiques\n",
    "X_test_3 = X_test_3.to_numpy()"
   ]
  },
  {
   "cell_type": "code",
   "execution_count": 28,
   "id": "3dcae9b4-d554-41ae-a1a1-aae7dedbe84d",
   "metadata": {},
   "outputs": [
    {
     "name": "stdout",
     "output_type": "stream",
     "text": [
      "Dimensions de X_train_4 : (54, 19)\n",
      "Dimensions de Y_train_4 : (54,)\n",
      "Dimensions de X_test_4 : (18, 19)\n",
      "Dimensions de Y_test_4 : (18,)\n"
     ]
    }
   ],
   "source": [
    "# Créer X_train_4 et Y_train_4\n",
    "X_train_4 = train_4.drop([\"cancer_colUterus\"], axis=1)\n",
    "print(f\"Dimensions de X_train_4 : {X_train_4.shape}\")  # Affiche la taille de X_train_4\n",
    "\n",
    "Y_train_4 = train_4[\"cancer_colUterus\"]\n",
    "print(f\"Dimensions de Y_train_4 : {Y_train_4.shape}\")  # Affiche la taille de Y_train_4\n",
    "\n",
    "# Créer X_test_4 et Y_test_4\n",
    "X_test_4 = test_4.drop([\"cancer_colUterus\"], axis=1)\n",
    "print(f\"Dimensions de X_test_4 : {X_test_4.shape}\")  # Affiche la taille de X_test_4\n",
    "\n",
    "Y_test_4 = test_4[\"cancer_colUterus\"]\n",
    "print(f\"Dimensions de Y_test_4 : {Y_test_4.shape}\")  # Affiche la taille de Y_test_4\n",
    "\n",
    "# Convertir les données en tableaux NumPy\n",
    "X_train_4 = X_train_4.to_numpy()  # Enlever les noms des caractéristiques\n",
    "X_test_4 = X_test_4.to_numpy()"
   ]
  },
  {
   "cell_type": "code",
   "execution_count": null,
   "id": "cbf4a5ce-23eb-4e6d-baf4-b04f4f584167",
   "metadata": {},
   "outputs": [],
   "source": []
  }
 ],
 "metadata": {
  "kernelspec": {
   "display_name": "Python 3 (ipykernel)",
   "language": "python",
   "name": "python3"
  },
  "language_info": {
   "codemirror_mode": {
    "name": "ipython",
    "version": 3
   },
   "file_extension": ".py",
   "mimetype": "text/x-python",
   "name": "python",
   "nbconvert_exporter": "python",
   "pygments_lexer": "ipython3",
   "version": "3.11.4"
  }
 },
 "nbformat": 4,
 "nbformat_minor": 5
}
