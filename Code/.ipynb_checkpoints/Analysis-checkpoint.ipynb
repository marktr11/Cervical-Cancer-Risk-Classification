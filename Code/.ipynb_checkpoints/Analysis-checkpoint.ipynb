{
 "cells": [
  {
   "cell_type": "markdown",
   "id": "dd4ed59e-c533-481b-853c-07177fbda15d",
   "metadata": {},
   "source": [
    "# Packages"
   ]
  },
  {
   "cell_type": "code",
   "execution_count": 21,
   "id": "449ef58b-c58e-49e4-80f4-4d3b6833abf1",
   "metadata": {},
   "outputs": [],
   "source": [
    "import numpy as nb\n",
    "import pandas as pd\n",
    "import os\n",
    "import sys\n",
    "from pathlib import Path"
   ]
  },
  {
   "cell_type": "markdown",
   "id": "2002d5d8-f6b1-40a8-9bd9-93785fe3e99b",
   "metadata": {},
   "source": [
    "# Dataset"
   ]
  },
  {
   "cell_type": "code",
   "execution_count": 26,
   "id": "5c5c99ad-eeae-4b7c-8bf2-13db9fa88f61",
   "metadata": {},
   "outputs": [
    {
     "name": "stdout",
     "output_type": "stream",
     "text": [
      "Base directory: C:\\Users\\minhm\\OneDrive - Université Côte d'Azur\\BUT SD\\BUT 24-25\\AI project\\Project\\Code\n",
      "File path: C:\\Users\\minhm\\OneDrive - Université Côte d'Azur\\BUT SD\\BUT 24-25\\AI project\\Project\\Code\\..\\Data\\sobar-72.csv\n",
      "corrected path: C:\\Users\\minhm\\OneDrive - Université Côte d'Azur\\BUT SD\\BUT 24-25\\AI project\\Project\\Data\\sobar-72.csv\n"
     ]
    }
   ],
   "source": [
    "base_dir = os.path.dirname(os.path.abspath(sys.argv[1]))\n",
    "file_path = os.path.join(base_dir, \"..\\Data\\sobar-72.csv\")  \n",
    "raw_path = Path(file_path)\n",
    "corrected_path = raw_path.resolve()\n",
    "print(\"Base directory:\", base_dir)\n",
    "print(\"File path:\", file_path)\n",
    "print(\"corrected path:\", corrected_path)\n",
    "df = pd.read_csv(corrected_path)"
   ]
  },
  {
   "cell_type": "markdown",
   "id": "c6914fca-0b81-4a20-8660-7dbb38856a7b",
   "metadata": {},
   "source": [
    "# EDA"
   ]
  },
  {
   "cell_type": "code",
   "execution_count": 27,
   "id": "53d6a81b-38c4-42f3-ad1b-606541df2086",
   "metadata": {},
   "outputs": [
    {
     "name": "stdout",
     "output_type": "stream",
     "text": [
      "<class 'pandas.core.frame.DataFrame'>\n",
      "RangeIndex: 72 entries, 0 to 71\n",
      "Data columns (total 20 columns):\n",
      " #   Column                      Non-Null Count  Dtype\n",
      "---  ------                      --------------  -----\n",
      " 0   behavior_sexualRisk         72 non-null     int64\n",
      " 1   behavior_eating             72 non-null     int64\n",
      " 2   behavior_personalHygine     72 non-null     int64\n",
      " 3   intention_aggregation       72 non-null     int64\n",
      " 4   intention_commitment        72 non-null     int64\n",
      " 5   attitude_consistency        72 non-null     int64\n",
      " 6   attitude_spontaneity        72 non-null     int64\n",
      " 7   norm_significantPerson      72 non-null     int64\n",
      " 8   norm_fulfillment            72 non-null     int64\n",
      " 9   perception_vulnerability    72 non-null     int64\n",
      " 10  perception_severity         72 non-null     int64\n",
      " 11  motivation_strength         72 non-null     int64\n",
      " 12  motivation_willingness      72 non-null     int64\n",
      " 13  socialSupport_emotionality  72 non-null     int64\n",
      " 14  socialSupport_appreciation  72 non-null     int64\n",
      " 15  socialSupport_instrumental  72 non-null     int64\n",
      " 16  empowerment_knowledge       72 non-null     int64\n",
      " 17  empowerment_abilities       72 non-null     int64\n",
      " 18  empowerment_desires         72 non-null     int64\n",
      " 19  ca_cervix                   72 non-null     int64\n",
      "dtypes: int64(20)\n",
      "memory usage: 11.4 KB\n",
      "None\n"
     ]
    }
   ],
   "source": [
    "print(df.info())"
   ]
  },
  {
   "cell_type": "code",
   "execution_count": 31,
   "id": "cb0b9e27-8a71-4d5f-8f7e-939b002e2005",
   "metadata": {},
   "outputs": [
    {
     "name": "stdout",
     "output_type": "stream",
     "text": [
      "<bound method NDFrame.head of     behavior_sexualRisk  behavior_eating  behavior_personalHygine  \\\n",
      "0                    10               13                       12   \n",
      "1                    10               11                       11   \n",
      "2                    10               15                        3   \n",
      "3                    10               11                       10   \n",
      "4                     8               11                        7   \n",
      "..                  ...              ...                      ...   \n",
      "67                   10               14                       14   \n",
      "68                   10               12                       15   \n",
      "69                   10                8                       11   \n",
      "70                    9               12                       13   \n",
      "71                   10               14                       14   \n",
      "\n",
      "    intention_aggregation  intention_commitment  attitude_consistency  \\\n",
      "0                       4                     7                     9   \n",
      "1                      10                    14                     7   \n",
      "2                       2                    14                     8   \n",
      "3                      10                    15                     7   \n",
      "4                       8                    10                     7   \n",
      "..                    ...                   ...                   ...   \n",
      "67                     10                    15                     6   \n",
      "68                     10                    15                     8   \n",
      "69                      6                    10                     6   \n",
      "70                     10                    13                     6   \n",
      "71                      6                    12                     7   \n",
      "\n",
      "    attitude_spontaneity  norm_significantPerson  norm_fulfillment  \\\n",
      "0                     10                       1                 8   \n",
      "1                      7                       5                 5   \n",
      "2                     10                       1                 4   \n",
      "3                      7                       1                 5   \n",
      "4                      8                       1                 5   \n",
      "..                   ...                     ...               ...   \n",
      "67                     7                       5                15   \n",
      "68                     8                       5                15   \n",
      "69                     4                       3                13   \n",
      "70                     6                       5                14   \n",
      "71                     8                       5                15   \n",
      "\n",
      "    perception_vulnerability  perception_severity  motivation_strength  \\\n",
      "0                          7                    3                   14   \n",
      "1                          4                    2                   15   \n",
      "2                          7                    2                    7   \n",
      "3                          4                    2                   15   \n",
      "4                          3                    2                   15   \n",
      "..                       ...                  ...                  ...   \n",
      "67                        14                   10                   15   \n",
      "68                        14                    8                   12   \n",
      "69                         9                    8                   14   \n",
      "70                        13                   10                   13   \n",
      "71                        12                   10                   10   \n",
      "\n",
      "    motivation_willingness  socialSupport_emotionality  \\\n",
      "0                        8                           5   \n",
      "1                       13                           7   \n",
      "2                        3                           3   \n",
      "3                       13                           7   \n",
      "4                        5                           3   \n",
      "..                     ...                         ...   \n",
      "67                      13                           9   \n",
      "68                      14                          11   \n",
      "69                      12                           9   \n",
      "70                      12                          11   \n",
      "71                      13                          11   \n",
      "\n",
      "    socialSupport_appreciation  socialSupport_instrumental  \\\n",
      "0                            7                          12   \n",
      "1                            6                           5   \n",
      "2                            6                          11   \n",
      "3                            4                           4   \n",
      "4                            6                          12   \n",
      "..                         ...                         ...   \n",
      "67                           8                          12   \n",
      "68                           7                          13   \n",
      "69                           7                          11   \n",
      "70                           8                          12   \n",
      "71                           9                          14   \n",
      "\n",
      "    empowerment_knowledge  empowerment_abilities  empowerment_desires  \\\n",
      "0                      12                     11                    8   \n",
      "1                       5                      4                    4   \n",
      "2                       3                      3                   15   \n",
      "3                       4                      4                    4   \n",
      "4                       5                      4                    7   \n",
      "..                    ...                    ...                  ...   \n",
      "67                     12                     11                    9   \n",
      "68                     15                     11                   14   \n",
      "69                     12                     10                   10   \n",
      "70                     11                     13                   15   \n",
      "71                     13                     15                   15   \n",
      "\n",
      "    ca_cervix  \n",
      "0           1  \n",
      "1           1  \n",
      "2           1  \n",
      "3           1  \n",
      "4           1  \n",
      "..        ...  \n",
      "67          0  \n",
      "68          0  \n",
      "69          0  \n",
      "70          0  \n",
      "71          0  \n",
      "\n",
      "[72 rows x 20 columns]>\n"
     ]
    }
   ],
   "source": [
    "print(df.head)"
   ]
  },
  {
   "cell_type": "code",
   "execution_count": 34,
   "id": "631624e7-5e56-44cd-876d-cdad6bc60942",
   "metadata": {},
   "outputs": [
    {
     "name": "stdout",
     "output_type": "stream",
     "text": [
      "Index(['behavior_sexualRisk', 'behavior_eating', 'behavior_personalHygine',\n",
      "       'intention_aggregation', 'intention_commitment', 'attitude_consistency',\n",
      "       'attitude_spontaneity', 'norm_significantPerson', 'norm_fulfillment',\n",
      "       'perception_vulnerability', 'perception_severity',\n",
      "       'motivation_strength', 'motivation_willingness',\n",
      "       'socialSupport_emotionality', 'socialSupport_appreciation',\n",
      "       'socialSupport_instrumental', 'empowerment_knowledge',\n",
      "       'empowerment_abilities', 'empowerment_desires', 'ca_cervix'],\n",
      "      dtype='object')\n"
     ]
    }
   ],
   "source": [
    "print(df.columns)"
   ]
  },
  {
   "cell_type": "code",
   "execution_count": 36,
   "id": "116602a0-b35c-43db-bef7-be72bc4d3a96",
   "metadata": {},
   "outputs": [
    {
     "name": "stdout",
     "output_type": "stream",
     "text": [
      "10\n"
     ]
    }
   ],
   "source": [
    "print(df[\"behavior_sexualRisk\"].max())"
   ]
  },
  {
   "cell_type": "code",
   "execution_count": 37,
   "id": "97a653a8-7205-49a3-869d-b59a2cb6b147",
   "metadata": {},
   "outputs": [
    {
     "name": "stdout",
     "output_type": "stream",
     "text": [
      "2\n"
     ]
    }
   ],
   "source": [
    "print(df[\"behavior_sexualRisk\"].min())"
   ]
  },
  {
   "cell_type": "code",
   "execution_count": null,
   "id": "96be5b3d-8451-4478-a7c3-a01374d4b56e",
   "metadata": {},
   "outputs": [],
   "source": [
    "    "
   ]
  }
 ],
 "metadata": {
  "kernelspec": {
   "display_name": "Python 3 (ipykernel)",
   "language": "python",
   "name": "python3"
  },
  "language_info": {
   "codemirror_mode": {
    "name": "ipython",
    "version": 3
   },
   "file_extension": ".py",
   "mimetype": "text/x-python",
   "name": "python",
   "nbconvert_exporter": "python",
   "pygments_lexer": "ipython3",
   "version": "3.11.4"
  }
 },
 "nbformat": 4,
 "nbformat_minor": 5
}
